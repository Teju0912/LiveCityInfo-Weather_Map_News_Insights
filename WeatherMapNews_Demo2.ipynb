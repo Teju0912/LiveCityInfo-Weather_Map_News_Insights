######### Demo WeatherMapNews Structure 2 ########

import tkinter as tk
from tkinter import ttk, messagebox
from tkcalendar import Calendar
import requests
import sqlite3
from datetime import datetime
import speech_recognition as sr
import matplotlib
matplotlib.use("TkAgg")
import matplotlib.pyplot as plt
from matplotlib.backends.backend_tkagg import FigureCanvasTkAgg

# ------------------ Database Setup ------------------
conn = sqlite3.connect("weather_data.db")
cursor = conn.cursor()

cursor.execute('''
    CREATE TABLE IF NOT EXISTS weather_log (
        id INTEGER PRIMARY KEY AUTOINCREMENT,
        city TEXT,
        country TEXT,
        forecast_time TEXT,
        temperature REAL,
        description TEXT,
        symbol TEXT,
        date_requested TEXT,
        time TEXT
    )
''')
conn.commit()

# ------------------ Weather Symbols ------------------
weather_symbols = {
    "Clear": "☀",
    "Clouds": "⛅",
    "Rain": "🌧",
    "Drizzle": "🌦",
    "Thunderstorm": "⚡",
    "Snow": "🌨",
    "Mist": "🌫",
    "Haze": "🌫",
    "Fog": "🌫",
    "Smoke": "🌫",
    "Dust": "🌫",
    "Sand": "🌫",
    "Ash": "🌫",
    "Squall": "🌫",
    "Tornado": "🌪"
}

# ------------------ Functions ------------------
def update_time():
    now = datetime.now().strftime("%Y-%m-%d %H:%M:%S")
    time_label.config(text=f"Current Time: {now}")
    root.after(1000, update_time)

def fetch_weather():
    city = city_entry.get().strip()
    if not city:
        messagebox.showwarning("Input Error", "Please enter a city name.")
        return

    api_key = "2891c36c237a9a499b8b995f208fdde2"
    url = f"https://api.openweathermap.org/data/2.5/weather?q={city}&appid={api_key}&units=metric"

    try:
        response = requests.get(url)
        data = response.json()

        if data.get("cod") != 200:
            messagebox.showerror("API Error", data.get("message", "Something went wrong"))
            return

        temp = data["main"]["temp"]
        desc = data["weather"][0]["main"]
        desc_full = data["weather"][0]["description"].capitalize()
        symbol = weather_symbols.get(desc, "")

        country = data["sys"]["country"]
        date = cal.get_date()
        time_ = datetime.now().strftime("%H:%M:%S")

        display = f"{symbol} {desc_full} | {temp}°C"
        weather_result.config(text=f"{city.title()}, {country}\n{display}")

        cursor.execute('''
            INSERT INTO weather_log (city, country, forecast_time, temperature, description, symbol, date_requested, time)
            VALUES (?, ?, ?, ?, ?, ?, ?, ?)
        ''', (city, country, date + " " + time_, temp, desc_full, symbol, date, time_))
        conn.commit()

    except requests.exceptions.RequestException as e:
        messagebox.showerror("Network Error", str(e))

def voice_input():
    recognizer = sr.Recognizer()
    try:
        with sr.Microphone() as source:
            messagebox.showinfo("Listening", "Please speak the city name...")
            audio = recognizer.listen(source, timeout=5)
            city = recognizer.recognize_google(audio)
            city_entry.delete(0, tk.END)
            city_entry.insert(0, city)
    except sr.UnknownValueError:
        messagebox.showerror("Error", "Could not understand audio.")
    except sr.RequestError:
        messagebox.showerror("Error", "Speech service unavailable.")
    except sr.WaitTimeoutError:
        messagebox.showerror("Timeout", "No speech detected.")

# ------------------ GUI Setup ------------------
root = tk.Tk()
root.title("Weather Detection")
root.geometry("1000x700")
root.configure(bg="white")

tk.Label(root, text="Weather Detection", font=("Helvetica", 20, "bold"), bg="white").pack(pady=10)

time_label = tk.Label(root, font=("Helvetica", 12), bg="white", fg="black")
time_label.pack()
update_time()

frame = tk.Frame(root, bg="white")
frame.pack(pady=10)

tk.Label(frame, text="Enter City:", font=("Helvetica", 12), bg="white").grid(row=0, column=0, padx=10)
city_entry = tk.Entry(frame, font=("Helvetica", 12))
city_entry.grid(row=0, column=1, padx=10)

mic_btn = tk.Button(frame, text="🎤 Mic", command=voice_input, font=("Helvetica", 10), bg="orange", fg="white")
mic_btn.grid(row=0, column=2, padx=5)

tk.Label(frame, text="Select Date:", font=("Helvetica", 12), bg="white").grid(row=0, column=3, padx=10)
cal = Calendar(frame, selectmode='day', date_pattern='yyyy-mm-dd')
cal.grid(row=0, column=4, padx=10)

search_btn = tk.Button(frame, text="🔍 Search", command=fetch_weather, font=("Helvetica", 12), bg="green", fg="white")
search_btn.grid(row=0, column=5, padx=10)

# ------------------ Weather Display ------------------
weather_result = ttk.Label(root, text="", font=("Helvetica", 14), background="white", justify="center")
weather_result.pack(pady=10)

# ------------------ Dummy Current Data ------------------
tk.Label(root, text="37°C", font=("Arial", 40), fg="black", bg="white").pack()
tk.Label(root, text="Partly Cloudy", font=("Arial", 20), fg="gray", bg="white").pack()
tk.Label(root, text="Humidity: 41% | Wind: 10 km/h | Precip: 5%", font=("Arial", 14), bg="white").pack()

# ------------------ Hourly Temperature Graph ------------------
graph_frame = tk.Frame(root, bg="white")
graph_frame.pack(fill=tk.BOTH, expand=True, pady=10)

times = ["2 PM", "5 PM", "8 PM", "11 PM", "2 AM", "5 AM", "8 AM", "11 AM"]
temps = [37, 36, 34, 32, 30, 29, 28, 32]

fig = plt.Figure(figsize=(7, 2), dpi=100)
ax = fig.add_subplot(111)
ax.plot(times, temps, marker="o", color="orange")
ax.set_title("Hourly Temperature")
ax.set_ylabel("°C")
ax.grid(True)

canvas = FigureCanvasTkAgg(fig, master=graph_frame)
canvas.draw()
canvas.get_tk_widget().pack(fill=tk.BOTH, expand=True)

# ------------------ Weekly Forecast ------------------
forecast = [
    {"day": "Fri", "temp": 37, "low": 28, "icon": "⛅"},
    {"day": "Sat", "temp": 36, "low": 27, "icon": "🌧"},
    {"day": "Sun", "temp": 34, "low": 27, "icon": "⛈"},
    {"day": "Mon", "temp": 31, "low": 26, "icon": "🌧"},
    {"day": "Tue", "temp": 29, "low": 26, "icon": "🌧"},
    {"day": "Wed", "temp": 28, "low": 24, "icon": "🌧"},
    {"day": "Thu", "temp": 28, "low": 25, "icon": "🌧"},
    {"day": "Fri", "temp": 28, "low": 24, "icon": "🌧"},
]

forecast_frame = tk.Frame(root, bg="white")
forecast_frame.pack(pady=10)

for i, day in enumerate(forecast):
    card = tk.Frame(forecast_frame, bg="#e0f0ff", bd=1, relief="solid", padx=10, pady=5)
    card.grid(row=0, column=i, padx=5)

    tk.Label(card, text=day["day"], font=("Arial", 12, "bold"), bg="#e0f0ff").pack()
    tk.Label(card, text=day["icon"], font=("Arial", 20), bg="#e0f0ff").pack()
    tk.Label(card, text=f"{day['temp']}° / {day['low']}°", font=("Arial", 12), bg="#e0f0ff").pack()

root.mainloop()
conn.close()
