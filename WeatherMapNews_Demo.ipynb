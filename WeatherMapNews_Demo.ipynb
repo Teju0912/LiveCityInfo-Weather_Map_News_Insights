########## Demo WeatherMapNews Structure 1 ###############

import tkinter as tk
from tkinter import ttk
import speech_recognition as sr
from datetime import datetime
import requests
import webbrowser
from tkcalendar import Calendar

# ----- Speech-to-Text Function -----
def speech_to_text():
    r = sr.Recognizer()
    with sr.Microphone() as source:
        print("Listening...")
        city_entry.delete(0, tk.END)
        audio = r.listen(source)
        try:
            text = r.recognize_google(audio)
            print("You said:", text)
            city_entry.insert(0, text)
        except sr.UnknownValueError:
            city_entry.insert(0, "Sorry, couldn't understand.")
        except sr.RequestError:
            city_entry.insert(0, "Network error.")

# ----- Root Window -----
root = tk.Tk()
root.title("Weather and Location App")
root.geometry("700x600")
root.configure(bg="#dff6ff")

# ----- Title Label -----
title = ttk.Label(root, text="Weather App", font=("Helvetica", 20, "bold"))
title.pack(pady=10)

# ----- Current Date -----
current_date = datetime.now().strftime("%A, %d %B %Y")
date_label = tk.Label(root, text=f"Date: {current_date}", font=("Helvetica", 12, "bold"))
date_label.pack(pady=5)

# ----- City Name Input -----
city_label = ttk.Label(root, text="Enter City Name:", font=("Helvetica", 12))
city_label.pack(pady=5)

city_entry = ttk.Entry(root, width=30, font=("Helvetica", 12))
city_entry.pack(pady=5)

# ----- Mic Button -----
mic_button = ttk.Button(root, text="🎤 Speak City", command=speech_to_text)
mic_button.pack(pady=10)

# ---- Date Picker ----
def open_calendar():
    def get_date():
        selected_date = cal.selection_get()
        date_label.config(text=f"Selected Date: {selected_date}")
        top.destroy()

    top = tk.Toplevel(root)
    top.title("Select Date")
    cal = Calendar(top, selectmode='day')
    cal.pack(pady=10)
    select_btn = ttk.Button(top, text="Choose", command=get_date)
    select_btn.pack(pady=5)

calendar_btn = ttk.Button(root, text="📅 Pick Date", command=open_calendar)
calendar_btn.pack(pady=10)

date_label = ttk.Label(root, text="", font=("Helvetica", 12))
date_label.pack(pady=5)

# ---- API Key ----
API_KEY = "05ee3c686442f31cba9703381120e822"  # Replace with your real key

# ---- Weather ----
def get_weather():
    city = city_entry.get().strip()
    print("City Entered:", city)
    if not city:
        weather_result.config(text="Please enter a city name.")
        return

    url = f"http://api.openweathermap.org/data/2.5/weather?q={city}&appid={API_KEY}&units=metric"
    try:
        response = requests.get(url)
        data = response.json()
        if data["cod"] == 200:
            temp = data["main"]["temp"]
            description = data["weather"][0]["description"]
            weather_result.config(
                text=f"🌡️ Temp: {temp}°C\n☁️ Description: {description.capitalize()}"
            )
        else:
            weather_result.config(text="City not found.")
    except Exception as e:
        weather_result.config(text=f"Error: {e}")

# ---- Weather Button ----
weather_btn = ttk.Button(root, text="🌦️ Get Weather", command=get_weather)
weather_btn.pack(pady=10)

# ---- Weather Result ----
weather_result = ttk.Label(root, text="", font=("Helvetica", 12))
weather_result.pack(pady=5)

# ---- Google Maps Button ----
def open_map():
    city = city_entry.get().strip()
    if city:
        maps_url = f"https://www.google.com/maps/place/{city}"
        webbrowser.open_new(maps_url)
    else:
        weather_result.config(text="Enter city first to open map")

map_btn = ttk.Button(root, text="🗺️ Open in Google Maps", command=open_map)
map_btn.pack(pady=10)

# ---- Full Day Forecast ----
def show_full_day_forecast():
    city = city_entry.get().strip()
    if not city:
        weather_result.config(text="Please enter a city name.")
        return

    url = f"http://api.openweathermap.org/data/2.5/forecast?q={city}&appid={API_KEY}&units=metric"
    try:
        response = requests.get(url)
        data = response.json()
        if data["cod"] != "200":
            weather_result.config(text="City not found or API error.")
            return

        forecast_window = tk.Toplevel(root)
        forecast_window.title("Full Day Forecast")
        forecast_window.geometry("400x300")

        header = tk.Label(forecast_window, text=f"Full Day Forecast for {city}", font=("Helvetica", 14, "bold"))
        header.pack(pady=10)

        forecasts = data["list"]

        segments = {
            "Morning": forecasts[1],
            "Afternoon": forecasts[4],
            "Evening": forecasts[6],
            "Night": forecasts[7],
        }

        for period, info in segments.items():
            temp = info["main"]["temp"]
            desc = info["weather"][0]["description"].capitalize()
            time_label = tk.Label(forecast_window, text=f"{period}: 🌡️ Temp: {temp}°C ☁️ {desc}", font=("Helvetica", 11))
            time_label.pack(pady=5)

    except Exception as e:
        weather_result.config(text=f"Forecast Error: {e}")

forecast_btn = ttk.Button(root, text="📅 Full Day Forecast", command=show_full_day_forecast)
forecast_btn.pack(pady=10)

# ---- Main Loop ----
root.mainloop()
